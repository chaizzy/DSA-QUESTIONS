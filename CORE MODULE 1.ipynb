{
 "cells": [
  {
   "cell_type": "code",
   "execution_count": 1,
   "id": "89b8ee13-383c-49d6-bb17-4f958341a94e",
   "metadata": {},
   "outputs": [
    {
     "name": "stdout",
     "output_type": "stream",
     "text": [
      "edcba\n"
     ]
    }
   ],
   "source": [
    "# ANS 1:\n",
    "def reverse_string(s):\n",
    "    return s[::-1]\n",
    "s=\"abcde\"\n",
    "print(reverse_string(s))"
   ]
  },
  {
   "cell_type": "code",
   "execution_count": 2,
   "id": "81ac51e2-fbb6-4bb6-9506-62c402d14322",
   "metadata": {},
   "outputs": [
    {
     "data": {
      "text/plain": [
       "'no'"
      ]
     },
     "execution_count": 2,
     "metadata": {},
     "output_type": "execute_result"
    }
   ],
   "source": [
    "# ANS 2:\n",
    "def ispalindrome(string):\n",
    "    if string == string[::-1]:\n",
    "        return \"yes\"\n",
    "    else:\n",
    "        return \"no\"\n",
    "string = \"malyalam\"\n",
    "ispalindrome(string)\n"
   ]
  },
  {
   "cell_type": "code",
   "execution_count": 3,
   "id": "dec8d1da-24fe-411a-ac99-d9f40884afeb",
   "metadata": {},
   "outputs": [
    {
     "data": {
      "text/plain": [
       "6"
      ]
     },
     "execution_count": 3,
     "metadata": {},
     "output_type": "execute_result"
    }
   ],
   "source": [
    "# ANS 3:\n",
    "def largest_num(l):\n",
    "    max1 = 0\n",
    "    for i in range(len(l)):\n",
    "        if l[i] > max1:\n",
    "            max1 = l[i]\n",
    "    return max1\n",
    "l = [1,2,3,6,4,5]\n",
    "largest_num(l)\n"
   ]
  },
  {
   "cell_type": "code",
   "execution_count": 4,
   "id": "b8eb9f3e-6ad1-4e81-9f29-87cb25c63bd5",
   "metadata": {},
   "outputs": [
    {
     "data": {
      "text/plain": [
       "{1: 2, 2: 2, 3: 2, 4: 1}"
      ]
     },
     "execution_count": 4,
     "metadata": {},
     "output_type": "execute_result"
    }
   ],
   "source": [
    "# ANS 4:\n",
    "def occurence(l1):\n",
    "    hashmap = {}\n",
    "    c = 0\n",
    "    for i in range(len(l1)):\n",
    "        hashmap[l1[i]] = hashmap.get(l1[i],0) + 1\n",
    "    return hashmap \n",
    "l1 = [1,2,2,3,4,1,3]\n",
    "occurence(l1)"
   ]
  },
  {
   "cell_type": "code",
   "execution_count": 5,
   "id": "4c87eb5b-2804-407e-a49c-e4e24e733abf",
   "metadata": {},
   "outputs": [
    {
     "data": {
      "text/plain": [
       "[1, 2, 3, 4]"
      ]
     },
     "execution_count": 5,
     "metadata": {},
     "output_type": "execute_result"
    }
   ],
   "source": [
    "# ANS 6:\n",
    "def remove_duplicates(l3):\n",
    "    hashmap={}\n",
    "    l=[]\n",
    "    for i in l3:\n",
    "        if i not in hashmap:\n",
    "            l.append(i)\n",
    "            hashmap[i] = i\n",
    "    return l\n",
    "l3 = [1,2,2,3,4,1,3]\n",
    "remove_duplicates(l3)"
   ]
  },
  {
   "cell_type": "code",
   "execution_count": 6,
   "id": "df7dfeff-0d56-47a6-b5c1-19c635acd6fe",
   "metadata": {},
   "outputs": [
    {
     "data": {
      "text/plain": [
       "120"
      ]
     },
     "execution_count": 6,
     "metadata": {},
     "output_type": "execute_result"
    }
   ],
   "source": [
    "# ANS 7:\n",
    "def factorial(a):\n",
    "    if a == 0:\n",
    "        return 1\n",
    "    else:\n",
    "        return a * factorial(a-1)\n",
    "a = 5\n",
    "factorial(a)"
   ]
  },
  {
   "cell_type": "code",
   "execution_count": 7,
   "id": "dcbf5d09-0649-404d-ac39-eff81680c14e",
   "metadata": {},
   "outputs": [
    {
     "data": {
      "text/plain": [
       "'number is prime'"
      ]
     },
     "execution_count": 7,
     "metadata": {},
     "output_type": "execute_result"
    }
   ],
   "source": [
    "# ANS 8:\n",
    "def isprime(n):\n",
    "    if n%2 != 0 or n ==2:\n",
    "        return \"number is prime\"\n",
    "    else:\n",
    "        return \"number is not  prime\"\n",
    "n = 9\n",
    "isprime(n)"
   ]
  },
  {
   "cell_type": "code",
   "execution_count": 8,
   "id": "a96713ac-490c-47da-bb3b-84364de23611",
   "metadata": {},
   "outputs": [
    {
     "data": {
      "text/plain": [
       "11"
      ]
     },
     "execution_count": 8,
     "metadata": {},
     "output_type": "execute_result"
    }
   ],
   "source": [
    "# ANS 10\n",
    "def sum_list(l):\n",
    "    sum1 = 0\n",
    "    for i in range(len(l)):\n",
    "        sum1 += l[i]\n",
    "    return sum1\n",
    "l = [1,2,3,1,3,1]\n",
    "sum_list(l)\n",
    "    "
   ]
  },
  {
   "cell_type": "code",
   "execution_count": 9,
   "id": "e42693a4-0883-4c29-a705-840fdfd3e91c",
   "metadata": {},
   "outputs": [
    {
     "data": {
      "text/plain": [
       "[1, 2, 3]"
      ]
     },
     "execution_count": 9,
     "metadata": {},
     "output_type": "execute_result"
    }
   ],
   "source": [
    "# ANS 11:\n",
    "def common_elements(l,l1):\n",
    "    l2 = []\n",
    "    for i in l:\n",
    "        if i in l and i in l1:\n",
    "            l2.append(i)\n",
    "    return l2\n",
    "l = [1,2,3,4,5]\n",
    "l1= [1,8,3,6,2]\n",
    "common_elements(l,l1)"
   ]
  },
  {
   "cell_type": "code",
   "execution_count": 10,
   "id": "05b018d3-1fb2-4c31-9996-eccdb8bc6d02",
   "metadata": {},
   "outputs": [
    {
     "data": {
      "text/plain": [
       "True"
      ]
     },
     "execution_count": 10,
     "metadata": {},
     "output_type": "execute_result"
    }
   ],
   "source": [
    "# ANS 12:\n",
    "def isAnagram(s, t):\n",
    "        if len(s) != len(t):\n",
    "            return False\n",
    "\n",
    "        char_count1 = {}\n",
    "        char_count2 = {}\n",
    "        for i in s:\n",
    "            char_count1[i] = char_count1.get(i , 0) + 1\n",
    "\n",
    "        for j in t:\n",
    "            char_count2[j] = char_count2.get(j , 0) + 1       \n",
    "\n",
    "        if char_count1 == char_count2:\n",
    "            return True\n",
    "        else:\n",
    "            False\n",
    "s = \"anagram\" \n",
    "t = \"nagaram\" \n",
    "isAnagram(s,t)"
   ]
  },
  {
   "cell_type": "code",
   "execution_count": 11,
   "id": "550788f7-079a-4b03-9c19-ddd2c9cebe12",
   "metadata": {},
   "outputs": [
    {
     "name": "stdout",
     "output_type": "stream",
     "text": [
      "abc\n",
      "acb\n",
      "bac\n",
      "bca\n",
      "cab\n",
      "cba\n"
     ]
    }
   ],
   "source": [
    "# ANS 13:\n",
    "from itertools import permutations\n",
    "\n",
    "def generate_permutations(string):\n",
    "    perms = permutations(string)\n",
    "    for perm in perms:\n",
    "        perm_string = ''.join(perm)\n",
    "        print(perm_string)\n",
    "\n",
    "string = \"abc\"\n",
    "generate_permutations(string)\n"
   ]
  },
  {
   "cell_type": "code",
   "execution_count": 12,
   "id": "1f29b273-ec21-464c-84eb-c5e2bb8b30ad",
   "metadata": {},
   "outputs": [
    {
     "name": "stdout",
     "output_type": "stream",
     "text": [
      "0\n",
      "1\n",
      "1\n",
      "2\n",
      "4\n"
     ]
    }
   ],
   "source": [
    "# ANS 14:\n",
    "def fibonacci(n):\n",
    "    a,b=0,1\n",
    "    for i in range(2,n):\n",
    "        c = a+b\n",
    "        \n",
    "        b = c\n",
    "        a = b\n",
    "        \n",
    "        print(c)\n",
    "print(0)\n",
    "print(1)\n",
    "fibonacci(5)\n",
    "    "
   ]
  },
  {
   "cell_type": "code",
   "execution_count": 13,
   "id": "79b92c07-9b24-4602-bd06-6373904241cf",
   "metadata": {},
   "outputs": [
    {
     "data": {
      "text/plain": [
       "2.5"
      ]
     },
     "execution_count": 13,
     "metadata": {},
     "output_type": "execute_result"
    }
   ],
   "source": [
    "# ANS 15:\n",
    "import numpy as np\n",
    "def mediann(l):\n",
    "    a = np.median(l)\n",
    "    return a\n",
    "l = [1,9,1,4]\n",
    "mediann(l)"
   ]
  },
  {
   "cell_type": "code",
   "execution_count": 15,
   "id": "ef48f1aa-faea-4e77-ad2d-97cf5bebaa65",
   "metadata": {},
   "outputs": [
    {
     "data": {
      "text/plain": [
       "[9, 5, 4, 3, 2, 1]"
      ]
     },
     "execution_count": 15,
     "metadata": {},
     "output_type": "execute_result"
    }
   ],
   "source": [
    "# ANS 16 \n",
    "def sort_decreasing(l1):\n",
    "    l1.sort(reverse = True)\n",
    "    return l1\n",
    "l1 = [1,2,3,4,5,9]\n",
    "sort_decreasing(l1)"
   ]
  },
  {
   "cell_type": "code",
   "execution_count": 20,
   "id": "d93306b7-acdc-4d0c-961b-5e33df177e80",
   "metadata": {},
   "outputs": [
    {
     "data": {
      "text/plain": [
       "[1, 2, 3]"
      ]
     },
     "execution_count": 20,
     "metadata": {},
     "output_type": "execute_result"
    }
   ],
   "source": [
    "# ANS 17\n",
    "def common_elements(l,l1):\n",
    "    l2 = []\n",
    "    for i in l:\n",
    "        if i in l and i in l1:\n",
    "            l2.append(i)\n",
    "    return l2\n",
    "l = [1,2,3,4,5]\n",
    "l1= [1,8,3,6,2]\n",
    "common_elements(l,l1)"
   ]
  },
  {
   "cell_type": "code",
   "execution_count": 19,
   "id": "42579634-144d-4cdc-a6dd-c371b4b3883b",
   "metadata": {},
   "outputs": [
    {
     "data": {
      "text/plain": [
       "21"
      ]
     },
     "execution_count": 19,
     "metadata": {},
     "output_type": "execute_result"
    }
   ],
   "source": [
    "# ANS 18:\n",
    "def max_subarray(l):\n",
    "    max1 = l[0]\n",
    "    sum1 = 0\n",
    "    for i in l:\n",
    "        sum1 += i\n",
    "        \n",
    "        if sum1 > max1:\n",
    "            max1 = sum1\n",
    "        if sum1 < 0:\n",
    "            sum1 = 0\n",
    "    return max1        \n",
    "l = [1,2,-3,4,8,9]\n",
    "max_subarray(l)"
   ]
  },
  {
   "cell_type": "code",
   "execution_count": 22,
   "id": "b3442d4b-7982-4ed9-9c87-6e504548186c",
   "metadata": {},
   "outputs": [
    {
     "data": {
      "text/plain": [
       "['s', 'd', 'f', 'a', 'b']"
      ]
     },
     "execution_count": 22,
     "metadata": {},
     "output_type": "execute_result"
    }
   ],
   "source": [
    "# ANS 19:\n",
    "def remove_vowels(s):\n",
    "    dictionary = {\"a\" , \"e\" , \"i\" , \"o\" , \"u\"}\n",
    "    l = s.split()\n",
    "    for i in range(len(l)):\n",
    "        if l[i] in dictionary:\n",
    "            l.remove(l[i])\n",
    "    return \"\".join(l)\n",
    "s = \"sdfab\"\n",
    "remove_duplicates(s)\n",
    "        \n",
    "            "
   ]
  },
  {
   "cell_type": "code",
   "execution_count": 1,
   "id": "2c13912b-c496-4b91-9911-ebaddbb60d7e",
   "metadata": {},
   "outputs": [
    {
     "name": "stdin",
     "output_type": "stream",
     "text": [
      "Enter a sentence:  yeh buddy\n"
     ]
    },
    {
     "name": "stdout",
     "output_type": "stream",
     "text": [
      "Reversed sentence: buddy yeh\n"
     ]
    }
   ],
   "source": [
    "# ANS 20\n",
    "def reverse_sentence(sentence):\n",
    "    words = sentence.split()\n",
    "    reversed_words = words[::-1]\n",
    "    reversed_sentence = ' '.join(reversed_words)\n",
    "    return reversed_sentence\n",
    "\n",
    "input_sentence = input(\"Enter a sentence: \")\n",
    "reversed_sentence = reverse_sentence(input_sentence)\n",
    "print(\"Reversed sentence:\", reversed_sentence)"
   ]
  },
  {
   "cell_type": "code",
   "execution_count": 3,
   "id": "9fb53aed-9ca0-4d56-a219-7ccd553c4609",
   "metadata": {},
   "outputs": [
    {
     "data": {
      "text/plain": [
       "True"
      ]
     },
     "execution_count": 3,
     "metadata": {},
     "output_type": "execute_result"
    }
   ],
   "source": [
    "# ANS 21\n",
    "def isAnagram(s, t):\n",
    "        if len(s) != len(t):\n",
    "            return False\n",
    "\n",
    "        char_count1 = {}\n",
    "        char_count2 = {}\n",
    "        for i in s:\n",
    "            char_count1[i] = char_count1.get(i , 0) + 1\n",
    "\n",
    "        for j in t:\n",
    "            char_count2[j] = char_count2.get(j , 0) + 1       \n",
    "\n",
    "        if char_count1 == char_count2:\n",
    "            return True\n",
    "        else:\n",
    "            False\n",
    "s = \"anagram\" \n",
    "t = \"nagaram\" \n",
    "isAnagram(s,t)"
   ]
  },
  {
   "cell_type": "code",
   "execution_count": 4,
   "id": "eb205b7d-e403-49dc-9df7-4dd09d956359",
   "metadata": {},
   "outputs": [],
   "source": [
    "# ANS 22\n",
    "def firstUniqChar(self, s: str) -> int:\n",
    "        hashmap = {}\n",
    "        for i in range(len(s)):\n",
    "            c = s[i]\n",
    "            hashmap[c] = hashmap.get(c,0) + 1\n",
    "\n",
    "        for i in range(len(s)):\n",
    "            if hashmap[s[i]] == 1:\n",
    "                return i\n",
    "        return -1    "
   ]
  },
  {
   "cell_type": "code",
   "execution_count": 5,
   "id": "98cc49bd-1f99-45d3-8cc6-01a547173971",
   "metadata": {},
   "outputs": [
    {
     "name": "stdin",
     "output_type": "stream",
     "text": [
      "Enter a number:  21\n"
     ]
    },
    {
     "name": "stdout",
     "output_type": "stream",
     "text": [
      "Prime factors: [3, 7]\n"
     ]
    }
   ],
   "source": [
    "# ANS 23\n",
    "def find_prime_factors(num):\n",
    "    prime_factors = []\n",
    "    divisor = 2\n",
    "\n",
    "    while divisor <= num:\n",
    "        if num % divisor == 0:\n",
    "            prime_factors.append(divisor)\n",
    "            num = num / divisor\n",
    "        else:\n",
    "            divisor += 1\n",
    "\n",
    "    return prime_factors\n",
    "input_num = int(input(\"Enter a number: \"))\n",
    "prime_factors = find_prime_factors(input_num)\n",
    "print(\"Prime factors:\", prime_factors)\n"
   ]
  },
  {
   "cell_type": "code",
   "execution_count": 6,
   "id": "4a655fb4-ed1c-497e-a29f-ae3ec9e5d0bd",
   "metadata": {},
   "outputs": [
    {
     "name": "stdout",
     "output_type": "stream",
     "text": [
      "True\n"
     ]
    }
   ],
   "source": [
    "# ANS 24\n",
    "def is_power_of_two(n):\n",
    "    if n <= 0:\n",
    "        return False\n",
    "    return (n & (n - 1)) == 0\n",
    "\n",
    "print(is_power_of_two(16)) "
   ]
  },
  {
   "cell_type": "code",
   "execution_count": 7,
   "id": "0a6bb78c-3e66-41ff-a730-21dec703f52c",
   "metadata": {},
   "outputs": [
    {
     "name": "stdout",
     "output_type": "stream",
     "text": [
      "The original list 1 is :  [2, 4]\n",
      "The original list 2 is :  [4, 6]\n",
      "The combined sorted list is :  [2, 4, 4, 6]\n"
     ]
    }
   ],
   "source": [
    "# ANS 25\n",
    "list1=[2,4,]\n",
    "list2=[4,6]\n",
    "\n",
    "print (\"The original list 1 is : \" ,list1)\n",
    "print (\"The original list 2 is : \" ,list2)\n",
    "\n",
    "res = sorted(list1 + list2)\n",
    "\n",
    "print (\"The combined sorted list is : \" ,res)"
   ]
  },
  {
   "cell_type": "code",
   "execution_count": 8,
   "id": "f6a6df6e-ed53-4a6c-bf1a-ac44a2403eee",
   "metadata": {},
   "outputs": [
    {
     "name": "stdout",
     "output_type": "stream",
     "text": [
      "[2]\n"
     ]
    }
   ],
   "source": [
    "# ANS 26:\n",
    "from collections import Counter\n",
    "\n",
    "def find_mode(numbers):\n",
    "    count = Counter(numbers)\n",
    "    max_count = max(count.values())\n",
    "    modes = [num for num, freq in count.items() if freq == max_count]\n",
    "    return modes\n",
    "\n",
    "numbers = [1, 2, 3, 4, 2, 3, 2, 2]\n",
    "print(find_mode(numbers))"
   ]
  },
  {
   "cell_type": "code",
   "execution_count": 9,
   "id": "56fbe98d-07a0-4a83-b68c-7142dec8f67e",
   "metadata": {},
   "outputs": [
    {
     "name": "stdout",
     "output_type": "stream",
     "text": [
      "The GCD of 60 and 48 is: 12\n"
     ]
    }
   ],
   "source": [
    "# ANS 27\n",
    "def gcd(a, b):\n",
    "    while b != 0:\n",
    "        a, b = b, a % b\n",
    "    return a\n",
    "\n",
    "num1 = 60\n",
    "num2 = 48\n",
    "print(\"The GCD of\", num1, \"and\", num2, \"is:\", gcd(num1, num2))\n"
   ]
  },
  {
   "cell_type": "code",
   "execution_count": 10,
   "id": "d85d1475-462b-4a16-85e6-c6bf77f9b777",
   "metadata": {},
   "outputs": [
    {
     "name": "stdout",
     "output_type": "stream",
     "text": [
      "The square root of 25 is: 5\n"
     ]
    }
   ],
   "source": [
    "# ANS 28\n",
    "def square_root(n):\n",
    "    if n < 0:\n",
    "        raise ValueError(\"Cannot calculate square root of a negative number.\")\n",
    "    elif n == 0:\n",
    "        return 0\n",
    "\n",
    "    x = n\n",
    "    y = (x + 1) // 2\n",
    "    while y < x:\n",
    "        x = y\n",
    "        y = (x + n // x) // 2\n",
    "    return x\n",
    "\n",
    "num = 25\n",
    "print(\"The square root of\", num, \"is:\", square_root(num))\n",
    "\n"
   ]
  },
  {
   "cell_type": "code",
   "execution_count": 11,
   "id": "b7347fe2-07a7-4b52-ade6-e6bc0726655b",
   "metadata": {},
   "outputs": [
    {
     "name": "stdout",
     "output_type": "stream",
     "text": [
      "Yes\n"
     ]
    }
   ],
   "source": [
    "# ANS 29\n",
    "def isPalindrome(string):\n",
    "    return string == string[::-1]\n",
    "string1 = \"malayalam\"\n",
    "ans = isPalindrome(string1)\n",
    "if ans:\n",
    "    print(\"Yes\")\n",
    "else:\n",
    "    print(\"No\")"
   ]
  },
  {
   "cell_type": "code",
   "execution_count": 13,
   "id": "50fec862-e5a4-48f7-bb90-43dfc3b1193a",
   "metadata": {},
   "outputs": [
    {
     "name": "stdout",
     "output_type": "stream",
     "text": [
      "The minimum element is: 0\n"
     ]
    }
   ],
   "source": [
    "# ANS 30\n",
    "def find_min(nums):\n",
    "    left = 0\n",
    "    right = len(nums) - 1\n",
    "\n",
    "    while left < right:\n",
    "        mid = left + (right - left) // 2\n",
    "\n",
    "        if nums[mid] > nums[right]:\n",
    "            left = mid + 1\n",
    "        else:\n",
    "            right = mid\n",
    "\n",
    "    return nums[left]\n",
    "\n",
    "nums = [4, 5, 6, 7, 0, 2]\n",
    "print(\"The minimum element is:\", find_min(nums))"
   ]
  },
  {
   "cell_type": "code",
   "execution_count": 14,
   "id": "30ccf1b8-3a0c-4468-a1d6-323eff49a7d2",
   "metadata": {},
   "outputs": [
    {
     "name": "stdout",
     "output_type": "stream",
     "text": [
      "The sum of even numbers is: 30\n"
     ]
    }
   ],
   "source": [
    "# ANS 31\n",
    "def sum_of_even_numbers(numbers):\n",
    "    sum_even = 0\n",
    "    for num in numbers:\n",
    "        if num % 2 == 0:\n",
    "            sum_even += num\n",
    "    return sum_even\n",
    "\n",
    "numbers = [1, 2, 3, 4, 5, 6, 7, 8, 9, 10]\n",
    "print(\"The sum of even numbers is:\", sum_of_even_numbers(numbers))"
   ]
  },
  {
   "cell_type": "code",
   "execution_count": 15,
   "id": "690e9afe-94ff-420c-97f5-11a70249b8a5",
   "metadata": {},
   "outputs": [
    {
     "name": "stdout",
     "output_type": "stream",
     "text": [
      "Result: 32\n"
     ]
    }
   ],
   "source": [
    "# ANS 32:\n",
    "def power(base, exponent):\n",
    "    if exponent == 0:\n",
    "        return 1\n",
    "    elif exponent < 0:\n",
    "        return 1 / power(base, -exponent)\n",
    "    else:\n",
    "        return base * power(base, exponent - 1)\n",
    "\n",
    "base = 2\n",
    "exponent = 5\n",
    "print(\"Result:\", power(base, exponent))"
   ]
  },
  {
   "cell_type": "code",
   "execution_count": 16,
   "id": "781cfa30-1759-4157-bc00-5b7732eb8546",
   "metadata": {},
   "outputs": [
    {
     "name": "stdout",
     "output_type": "stream",
     "text": [
      "[1, 3, 2, 4, 6, 5, 8, 9, 7, 0, 98]\n"
     ]
    }
   ],
   "source": [
    "# ANS 33\n",
    "list=[1,3,2,1,4,6,5,2,6,4,3,8,6,8,9,7,0,98,7,6,4,3]\n",
    "res=[]\n",
    "for i in list:\n",
    "    if i not in res:\n",
    "        res.append(i)\n",
    "print(res)"
   ]
  },
  {
   "cell_type": "code",
   "execution_count": 17,
   "id": "2dd554de-b69b-48c3-803b-7723d967470e",
   "metadata": {},
   "outputs": [
    {
     "name": "stdout",
     "output_type": "stream",
     "text": [
      "Longest common prefix: fl\n",
      "Longest common prefix: \n"
     ]
    }
   ],
   "source": [
    "# ANS 34\n",
    "def longest_common_prefix(strs):\n",
    "    if not strs:\n",
    "        return \"\"\n",
    "\n",
    "    prefix = strs[0]\n",
    "    for i in range(1, len(strs)):\n",
    "        while strs[i].find(prefix) != 0:\n",
    "            prefix = prefix[:-1]\n",
    "            if not prefix:\n",
    "                return \"\"\n",
    "\n",
    "    return prefix\n",
    "\n",
    "strings1 = [\"flower\", \"flow\", \"flight\"]\n",
    "strings2 = [\"dog\", \"racecar\", \"car\"]\n",
    "print(\"Longest common prefix:\", longest_common_prefix(strings1))\n",
    "print(\"Longest common prefix:\", longest_common_prefix(strings2))"
   ]
  },
  {
   "cell_type": "code",
   "execution_count": 18,
   "id": "f4615c7c-7d81-4125-aaf2-f1327a12d3ae",
   "metadata": {},
   "outputs": [],
   "source": [
    "# ANS 35\n",
    "import math\n",
    "\n",
    "def is_perfect_square(num):\n",
    "    if num < 0:\n",
    "        return False\n",
    "\n",
    "    sqrt = int(math.sqrt(num))\n",
    "    return sqrt * sqrt == num"
   ]
  },
  {
   "cell_type": "code",
   "execution_count": 19,
   "id": "edb73475-9839-4b22-9101-e4ee63e07a03",
   "metadata": {},
   "outputs": [
    {
     "name": "stdout",
     "output_type": "stream",
     "text": [
      "The product of all elements is: 120\n"
     ]
    }
   ],
   "source": [
    "# ANS 36\n",
    "def calculate_product(numbers):\n",
    "    product = 1\n",
    "    for num in numbers:\n",
    "        product *= num\n",
    "    return product\n",
    "\n",
    "numbers = [1, 2, 3, 4, 5]\n",
    "print(\"The product of all elements is:\", calculate_product(numbers))"
   ]
  },
  {
   "cell_type": "code",
   "execution_count": 21,
   "id": "e3504363-8cef-405f-ab58-798bbe2d0599",
   "metadata": {},
   "outputs": [
    {
     "name": "stdout",
     "output_type": "stream",
     "text": [
      "Reversed sentence: BUDDY? !$ HEY\n"
     ]
    }
   ],
   "source": [
    "# ANS 37\n",
    "def reverse_sentence(sentence):\n",
    "    words = sentence.split()\n",
    "    reversed_words = words[::-1]\n",
    "    reversed_sentence = ' '.join(reversed_words)\n",
    "    return reversed_sentence\n",
    "\n",
    "sentence = \"HEY !$ BUDDY?\"\n",
    "print(\"Reversed sentence:\", reverse_sentence(sentence))"
   ]
  },
  {
   "cell_type": "code",
   "execution_count": 22,
   "id": "77d69c81-53bd-42d6-9989-f435d87ed1fa",
   "metadata": {},
   "outputs": [
    {
     "name": "stdout",
     "output_type": "stream",
     "text": [
      "The missing number is: 4\n"
     ]
    }
   ],
   "source": [
    "# ANS 38\n",
    "def find_missing_number(numbers):\n",
    "    n = len(numbers) + 1\n",
    "    expected_sum = (n * (n + 1)) // 2\n",
    "    actual_sum = sum(numbers)\n",
    "    missing_number = expected_sum - actual_sum\n",
    "    return missing_number\n",
    "\n",
    "numbers = [1, 2, 3, 5, 6, 7, 8, 9, 10]\n",
    "print(\"The missing number is:\", find_missing_number(numbers))"
   ]
  },
  {
   "cell_type": "code",
   "execution_count": 23,
   "id": "5010c240-6c3f-4b46-b548-ffb7ed263117",
   "metadata": {},
   "outputs": [
    {
     "name": "stdout",
     "output_type": "stream",
     "text": [
      "Sum of digits: 15\n"
     ]
    }
   ],
   "source": [
    "# ANS 39\n",
    "def sum_of_digits(number):\n",
    "    sum_digits = 0\n",
    "    while number > 0:\n",
    "        digit = number % 10\n",
    "        sum_digits += digit\n",
    "        number //= 10\n",
    "    return sum_digits\n",
    "\n",
    "number = 12345\n",
    "print(\"Sum of digits:\", sum_of_digits(number))"
   ]
  },
  {
   "cell_type": "code",
   "execution_count": 24,
   "id": "52aded26-74e5-4106-a175-ca22752852c9",
   "metadata": {},
   "outputs": [
    {
     "name": "stdout",
     "output_type": "stream",
     "text": [
      "False\n"
     ]
    }
   ],
   "source": [
    "# ANS 40\n",
    "def is_valid_palindrome(string):\n",
    "    clean_string = ''.join(e for e in string if e.isalnum())\n",
    "    return clean_string == clean_string[::-1]\n",
    "\n",
    "string1 = \"A man, a plan, a canal: Panama\"\n",
    "print(is_valid_palindrome(string1))"
   ]
  },
  {
   "cell_type": "code",
   "execution_count": 25,
   "id": "3fa8465b-49d0-421a-8993-cdbcb6f992ef",
   "metadata": {},
   "outputs": [
    {
     "name": "stdout",
     "output_type": "stream",
     "text": [
      "The smallest missing positive integer is: 2\n"
     ]
    }
   ],
   "source": [
    "# ANS 41\n",
    "def find_smallest_missing_positive(numbers):\n",
    "    # Move all non-positive numbers to the left\n",
    "    n = len(numbers)\n",
    "    i = 0\n",
    "    while i < n:\n",
    "        if numbers[i] <= 0 or numbers[i] > n:\n",
    "            i += 1\n",
    "        elif numbers[numbers[i] - 1] != numbers[i]:\n",
    "            numbers[numbers[i] - 1], numbers[i] = numbers[i], numbers[numbers[i] - 1]\n",
    "        else:\n",
    "            i += 1\n",
    "\n",
    "    # Find the first missing positive integer\n",
    "    for i in range(n):\n",
    "        if numbers[i] != i + 1:\n",
    "            return i + 1\n",
    "\n",
    "    return n + 1\n",
    "\n",
    "numbers = [3, 4, -1, 1]\n",
    "print(\"The smallest missing positive integer is:\", find_smallest_missing_positive(numbers))"
   ]
  },
  {
   "cell_type": "code",
   "execution_count": 26,
   "id": "19cfcac8-586d-4f8d-9d9c-37ebc49c7603",
   "metadata": {},
   "outputs": [
    {
     "name": "stdout",
     "output_type": "stream",
     "text": [
      "Longest palindrome substring: aba\n"
     ]
    }
   ],
   "source": [
    "# ANS 42\n",
    "def longest_palindrome(s):\n",
    "    if len(s) <= 1:\n",
    "        return s\n",
    "\n",
    "    start = 0\n",
    "    end = 0\n",
    "\n",
    "    for i in range(len(s)):\n",
    "        len1 = expand_around_center(s, i, i)\n",
    "        len2 = expand_around_center(s, i, i + 1)\n",
    "        length = max(len1, len2)\n",
    "\n",
    "        if length > end - start:\n",
    "            start = i - (length - 1) // 2\n",
    "            end = i + length // 2\n",
    "\n",
    "    return s[start : end + 1]\n",
    "\n",
    "def expand_around_center(s, left, right):\n",
    "    while left >= 0 and right < len(s) and s[left] == s[right]:\n",
    "        left -= 1\n",
    "        right += 1\n",
    "\n",
    "    return right - left - 1\n",
    "\n",
    "\n",
    "string = \"babad\"\n",
    "print(\"Longest palindrome substring:\", longest_palindrome(string))\n"
   ]
  },
  {
   "cell_type": "code",
   "execution_count": 27,
   "id": "80e9ab43-cb39-4b61-86e2-a5f99394d68b",
   "metadata": {},
   "outputs": [
    {
     "name": "stdout",
     "output_type": "stream",
     "text": [
      "Number of occurrences: 4\n"
     ]
    }
   ],
   "source": [
    "# ANS 43\n",
    "def count_occurrences(lst, element):\n",
    "    count = 0\n",
    "    for item in lst:\n",
    "        if item == element:\n",
    "            count += 1\n",
    "    return count\n",
    "\n",
    "\n",
    "numbers = [1, 2, 3, 2, 4, 5, 3, 2, 6, 7, 2]\n",
    "element = 2\n",
    "print(\"Number of occurrences:\", count_occurrences(numbers, element))\n"
   ]
  },
  {
   "cell_type": "code",
   "execution_count": 28,
   "id": "90b16149-c4a2-4ff5-9f80-029f0ba35ca7",
   "metadata": {},
   "outputs": [],
   "source": [
    "# ANS 44\n",
    "def is_perfect_number(number):\n",
    "    if number <= 0:\n",
    "        return False\n",
    "\n",
    "    divisors = []\n",
    "    for i in range(1, number):\n",
    "        if number % i == 0:\n",
    "            divisors.append(i)\n",
    "\n",
    "    sum_of_divisors = sum(divisors)\n",
    "    return sum_of_divisors == number\n"
   ]
  },
  {
   "cell_type": "code",
   "execution_count": 29,
   "id": "1c92069a-8442-4aa2-a3bd-8d95d199546a",
   "metadata": {},
   "outputs": [],
   "source": [
    "# ANS 45\n",
    "def remove_duplicates(string):\n",
    "    unique_chars = []\n",
    "    for char in string:\n",
    "        if char not in unique_chars:\n",
    "            unique_chars.append(char)\n",
    "    return ''.join(unique_chars)"
   ]
  },
  {
   "cell_type": "code",
   "execution_count": 30,
   "id": "1357c442-6ea7-4665-b32f-c9ea66ebeadc",
   "metadata": {},
   "outputs": [
    {
     "name": "stdout",
     "output_type": "stream",
     "text": [
      "String after removing duplicates: Helo, Wrd!\n"
     ]
    }
   ],
   "source": [
    "# ANS 46\n",
    "def remove_duplicates(string):\n",
    "    unique_chars = []\n",
    "    for char in string:\n",
    "        if char not in unique_chars:\n",
    "            unique_chars.append(char)\n",
    "    return ''.join(unique_chars)\n",
    "\n",
    "\n",
    "string = \"Hello, World!\"\n",
    "print(\"String after removing duplicates:\", remove_duplicates(string))"
   ]
  },
  {
   "cell_type": "code",
   "execution_count": null,
   "id": "484c25f7-3002-4d2e-ab23-12d31257112d",
   "metadata": {},
   "outputs": [],
   "source": []
  }
 ],
 "metadata": {
  "kernelspec": {
   "display_name": "Python 3 (ipykernel)",
   "language": "python",
   "name": "python3"
  },
  "language_info": {
   "codemirror_mode": {
    "name": "ipython",
    "version": 3
   },
   "file_extension": ".py",
   "mimetype": "text/x-python",
   "name": "python",
   "nbconvert_exporter": "python",
   "pygments_lexer": "ipython3",
   "version": "3.10.8"
  }
 },
 "nbformat": 4,
 "nbformat_minor": 5
}
