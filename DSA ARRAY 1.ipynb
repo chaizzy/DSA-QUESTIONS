{
 "cells": [
  {
   "cell_type": "code",
   "execution_count": 4,
   "id": "821068e2-525b-41a5-bb9d-3f5e4e1fa74f",
   "metadata": {},
   "outputs": [],
   "source": [
    "# ANS 1:\n",
    "nums = [2,7,11,15]\n",
    "def twoSum(self,nums,target):\n",
    "        n= len(nums)\n",
    "        hashmap= {}\n",
    "        for i in range(n):\n",
    "            complement= target- nums[i]\n",
    "            if complement in hashmap:\n",
    "                return [i, hashmap[complement]]\n",
    "            hashmap[nums[i]]= i   "
   ]
  },
  {
   "cell_type": "code",
   "execution_count": 5,
   "id": "4b4eebd9-5878-420b-a70e-af09c9532ed3",
   "metadata": {},
   "outputs": [],
   "source": [
    "# ANS 2:\n",
    "nums = [3,2,2,3]\n",
    "def removeElement(self, nums, val):\n",
    "        j = 0 \n",
    "        for i in range(0,len(nums)):\n",
    "            if nums[i] != val:\n",
    "                nums[j] = nums[i]\n",
    "                j += 1\n",
    "            \n",
    "        return j  "
   ]
  },
  {
   "cell_type": "code",
   "execution_count": 6,
   "id": "883ce113-0386-4096-9ebd-7eb188f5a136",
   "metadata": {},
   "outputs": [],
   "source": [
    "# ANS 3:\n",
    "nums = [1,3,5,6]\n",
    "def searchInsert(self, nums, target):\n",
    "        low = 0\n",
    "        high = len(nums)-1\n",
    "        \n",
    "\n",
    "        while low <= high:\n",
    "            mid = (high + low) // 2\n",
    "            if nums[mid]==target:\n",
    "                return mid\n",
    "\n",
    "            elif nums[mid]<target:\n",
    "                low = mid + 1\n",
    "            \n",
    "            else:\n",
    "                high = mid - 1\n",
    "\n",
    "        return low    \n"
   ]
  },
  {
   "cell_type": "code",
   "execution_count": 1,
   "id": "9efbf5d5-ab85-49f8-8173-49705901957e",
   "metadata": {},
   "outputs": [],
   "source": [
    "# ANS 4:\n",
    "digits = [4,3,2,1]\n",
    "def plusOne(self, digits,List):\n",
    "        r = 0\n",
    "        l=[]\n",
    "        while digits:\n",
    "            element = digits.pop(0)\n",
    "            r = (r * 10) + element\n",
    "        r = r + 1\n",
    "        while r > 0:\n",
    "            a = r % 10\n",
    "            l.insert(0,a)\n",
    "            r = r // 10\n",
    "        return l   "
   ]
  },
  {
   "cell_type": "code",
   "execution_count": 5,
   "id": "aaa01227-20ab-47a0-84e2-5e923fa03d57",
   "metadata": {},
   "outputs": [],
   "source": [
    "# ANS 5:\n",
    "nums1 = [1,2,3,0,0,0] \n",
    "m = 3 \n",
    "nums2 = [2,5,6] \n",
    "n = 3\n",
    "def merge(self, nums1, m, nums2, n):\n",
    "        i = m - 1\n",
    "        j = n - 1\n",
    "        k = m + n - 1\n",
    "\n",
    "        while i >= 0 and j >= 0:\n",
    "\n",
    "            if nums1[i] > nums2[j]:\n",
    "                nums1[k] = nums1[i]\n",
    "                i -= 1\n",
    "            else:\n",
    "                nums1[k] = nums2[j]\n",
    "                j -= 1\n",
    "            k -= 1\n",
    "\n",
    "        while j >= 0:\n",
    "            nums1[k] = nums2[j]\n",
    "            j -= 1\n",
    "            k -= 1"
   ]
  },
  {
   "cell_type": "code",
   "execution_count": 2,
   "id": "ccafafba-524b-4704-bbc1-7e579b70073e",
   "metadata": {},
   "outputs": [],
   "source": [
    "# ANS 6:\n",
    "nums = [1,2,3,1]\n",
    "def containsDuplicate(self, nums,List):\n",
    "        r = set()\n",
    "        for i in nums:\n",
    "            r.add(i)\n",
    "        if len(r)==len(nums):\n",
    "            return False\n",
    "        else:\n",
    "            return True   "
   ]
  },
  {
   "cell_type": "code",
   "execution_count": 3,
   "id": "986bba1f-ef04-493c-bffc-56d6731ffee5",
   "metadata": {},
   "outputs": [],
   "source": [
    "# ANS 7:\n",
    "nums = [0,1,0,3,12]\n",
    "def moveZeroes(self, nums,List):\n",
    "        curr = 0\n",
    "        p0 = 0\n",
    "        while curr < len(nums) and p0 < len(nums):\n",
    "            if nums[curr]!=0:\n",
    "                nums[p0],nums[curr]=nums[curr],nums[p0]\n",
    "                curr += 1\n",
    "                p0 += 1\n",
    "            else:\n",
    "                curr += 1"
   ]
  },
  {
   "cell_type": "code",
   "execution_count": 3,
   "id": "e9efed04-9bbc-4700-87f3-6bc2803bbdf0",
   "metadata": {},
   "outputs": [],
   "source": [
    "# ANS 8:\n",
    "nums = [1, 2, 2, 4]\n",
    "def findErrorNums(self, nums):\n",
    "        n = len(nums)\n",
    "        s = set()\n",
    "        duplicate = -1\n",
    "\n",
    "        for i in nums:\n",
    "            if i in num_set:\n",
    "                duplicate = i\n",
    "                s.add(i)\n",
    "\n",
    "        missing = -1\n",
    "        for j in range(1, n + 1):\n",
    "            if j not in s:\n",
    "                missing = j\n",
    "                break\n",
    "\n",
    "        return [duplicate, missing]"
   ]
  },
  {
   "cell_type": "code",
   "execution_count": null,
   "id": "cc523029-95cf-4c86-b5e9-8f6691875dda",
   "metadata": {},
   "outputs": [],
   "source": []
  }
 ],
 "metadata": {
  "kernelspec": {
   "display_name": "Python 3 (ipykernel)",
   "language": "python",
   "name": "python3"
  },
  "language_info": {
   "codemirror_mode": {
    "name": "ipython",
    "version": 3
   },
   "file_extension": ".py",
   "mimetype": "text/x-python",
   "name": "python",
   "nbconvert_exporter": "python",
   "pygments_lexer": "ipython3",
   "version": "3.10.8"
  }
 },
 "nbformat": 4,
 "nbformat_minor": 5
}
