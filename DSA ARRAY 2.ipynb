{
 "cells": [
  {
   "cell_type": "code",
   "execution_count": 10,
   "id": "11689f4a-97d6-4316-a057-a1263ecc389c",
   "metadata": {},
   "outputs": [],
   "source": [
    "# ANS 1:\n",
    "nums = [1,4,3,2]\n",
    "def arrayPairSum(nums):\n",
    "        nums.sort()\n",
    "        sum1 = 0\n",
    "        for i in range(0,len(nums),2):\n",
    "            sum1 += nums[i]\n",
    "        return sum1  "
   ]
  },
  {
   "cell_type": "code",
   "execution_count": 11,
   "id": "3e9b91d0-82b6-461a-afc5-203d09e7c5a2",
   "metadata": {},
   "outputs": [],
   "source": [
    "# ANS 2:\n",
    "nums = [1,3,2,2,5,2,3,7]\n",
    "def distributeCandies(candyType):\n",
    "        return min(len(set(candyType)),len(candyType)//2)\n",
    "    "
   ]
  },
  {
   "cell_type": "code",
   "execution_count": 12,
   "id": "69c7ce8c-0852-4fe3-bb3b-400a5b08f114",
   "metadata": {},
   "outputs": [
    {
     "data": {
      "text/plain": [
       "False"
      ]
     },
     "execution_count": 12,
     "metadata": {},
     "output_type": "execute_result"
    }
   ],
   "source": [
    "# ANS 4:\n",
    "flowerbed = [1,0,0,0,1]\n",
    "n = 2\n",
    "def canPlaceFlowers(flowerbed,n):\n",
    "        for i in range(len(flowerbed)):\n",
    "            if flowerbed[i] == 0 and (i == 0 or flowerbed[i-1] == 0) and (i == len(flowerbed) - 1 or flowerbed[i+1] == 0):\n",
    "                flowerbed[i] = 1\n",
    "                n -= 1\n",
    "        if n > 0:\n",
    "            return False\n",
    "        else:\n",
    "            return True \n",
    "flowerbed = [1,0,0,0,1]\n",
    "n = 2 \n",
    "canPlaceFlowers(flowerbed,n)"
   ]
  },
  {
   "cell_type": "code",
   "execution_count": 13,
   "id": "dbcc79cd-96b1-46c6-afff-f981b3cd9ffc",
   "metadata": {},
   "outputs": [],
   "source": [
    "# ANS 5:\n",
    "def maximumProduct(nums):\n",
    "        nums.sort()\n",
    "        p1 = nums[-3] * nums[-2] * nums[-1]\n",
    "        p2 = nums[0] * nums[1] * nums[-1]\n",
    "        return max(p1,p2)\n",
    "nums = [1,2,3]       "
   ]
  },
  {
   "cell_type": "code",
   "execution_count": 14,
   "id": "66346952-7049-4f55-afc5-8eaed025e5d4",
   "metadata": {},
   "outputs": [
    {
     "data": {
      "text/plain": [
       "4"
      ]
     },
     "execution_count": 14,
     "metadata": {},
     "output_type": "execute_result"
    }
   ],
   "source": [
    "# ANS 6:\n",
    "def search( nums, target) :\n",
    "        low = 0\n",
    "        high = len(nums)-1\n",
    "        \n",
    "\n",
    "        while low <= high:\n",
    "            mid = (high + low) // 2\n",
    "            if nums[mid]==target:\n",
    "                return mid\n",
    "\n",
    "            elif nums[mid]<target:\n",
    "                low = mid + 1\n",
    "            \n",
    "            else:\n",
    "                high = mid - 1\n",
    "\n",
    "        return -1 \n",
    "nums = [-1,0,3,5,9,12]\n",
    "target = 9\n",
    "search( nums, target)"
   ]
  },
  {
   "cell_type": "code",
   "execution_count": 15,
   "id": "bfefd851-ff40-4a80-ae65-ae77b184871b",
   "metadata": {},
   "outputs": [],
   "source": [
    "# ANS 7:\n",
    "def isMonotonic(nums):\n",
    "        if nums[0] <= nums[-1]:\n",
    "            nums = nums[::-1]\n",
    "        for i in range(1,len(nums)):\n",
    "            if nums[i-1] < nums[i]:\n",
    "                return False\n",
    "        return True  \n",
    "nums = [1,2,2,3]   "
   ]
  },
  {
   "cell_type": "code",
   "execution_count": null,
   "id": "c52619c0-d90c-416d-8996-528ef7a1374b",
   "metadata": {},
   "outputs": [],
   "source": []
  },
  {
   "cell_type": "code",
   "execution_count": null,
   "id": "e50d1b2d-c370-4df2-8042-a3c2ac5a37a5",
   "metadata": {},
   "outputs": [],
   "source": []
  }
 ],
 "metadata": {
  "kernelspec": {
   "display_name": "Python 3 (ipykernel)",
   "language": "python",
   "name": "python3"
  },
  "language_info": {
   "codemirror_mode": {
    "name": "ipython",
    "version": 3
   },
   "file_extension": ".py",
   "mimetype": "text/x-python",
   "name": "python",
   "nbconvert_exporter": "python",
   "pygments_lexer": "ipython3",
   "version": "3.10.8"
  }
 },
 "nbformat": 4,
 "nbformat_minor": 5
}
