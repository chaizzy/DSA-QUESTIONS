{
 "cells": [
  {
   "cell_type": "code",
   "execution_count": 1,
   "id": "660d42c2-a549-47a1-8cdd-acf6e0e48bfb",
   "metadata": {},
   "outputs": [
    {
     "name": "stdout",
     "output_type": "stream",
     "text": [
      "[[1, 2], [3, 4]]\n"
     ]
    }
   ],
   "source": [
    "# ANS 1:\n",
    "def construct2DArray(original, m, n):\n",
    "    if len(original) != m * n:\n",
    "        return []\n",
    "    \n",
    "    result = [[0] * n for _ in range(m)]\n",
    "    \n",
    "    for i in range(len(original)):\n",
    "        row = i // n\n",
    "        col = i % n\n",
    "        result[row][col] = original[i]\n",
    "    \n",
    "    return result\n",
    "\n",
    "original=[1,2,3,4]\n",
    "m=2\n",
    "n=2\n",
    "\n",
    "output=construct2DArray(original,m,n)\n",
    "print(output)"
   ]
  },
  {
   "cell_type": "code",
   "execution_count": 2,
   "id": "a26c6ab8-ed71-4618-850a-d2003b851c27",
   "metadata": {},
   "outputs": [
    {
     "name": "stdout",
     "output_type": "stream",
     "text": [
      "2\n"
     ]
    }
   ],
   "source": [
    "# ANS 2\n",
    "def find_complete_rows(n):\n",
    "    k = 0\n",
    "    sum = 0\n",
    "    while sum <= n:\n",
    "        k += 1\n",
    "        sum = (k * (k + 1)) // 2\n",
    "    return k - 1\n",
    "n=5\n",
    "result=find_complete_rows(n)\n",
    "print(result)"
   ]
  },
  {
   "cell_type": "code",
   "execution_count": 3,
   "id": "4995712e-7ed5-4c06-857c-dca1e88678f8",
   "metadata": {},
   "outputs": [
    {
     "name": "stdout",
     "output_type": "stream",
     "text": [
      "[0, 1, 9, 16, 100]\n"
     ]
    }
   ],
   "source": [
    "# ANS 3:\n",
    "def sortedSquares(nums):\n",
    "    result = []\n",
    "    for num in nums:\n",
    "        result.append(num * num)\n",
    "    return sorted(result)\n",
    "\n",
    "nums=[-4,-1,0,3,10]\n",
    "result=sortedSquares(nums)\n",
    "print(result)"
   ]
  },
  {
   "cell_type": "code",
   "execution_count": 4,
   "id": "cb06105f-1cc7-4358-99d7-729d195e6ac3",
   "metadata": {},
   "outputs": [
    {
     "name": "stdout",
     "output_type": "stream",
     "text": [
      "[[1, 3], [4, 6]]\n"
     ]
    }
   ],
   "source": [
    "# ANS 4:\n",
    "def findDisjoint(nums1, nums2):\n",
    "    set1 = set(nums1)\n",
    "    set2 = set(nums2)\n",
    "    result1 = list(set1 - set2)\n",
    "    result2 = list(set2 - set1)\n",
    "    return [result1, result2]\n",
    "\n",
    "nums1 = [1,2,3]\n",
    "nums2 = [2,4,6]\n",
    "result=findDisjoint(nums1 ,nums2)\n",
    "print(result)"
   ]
  },
  {
   "cell_type": "code",
   "execution_count": 5,
   "id": "6f1beb72-03c0-4c2a-a4f0-a40e6b1f6019",
   "metadata": {},
   "outputs": [
    {
     "name": "stdout",
     "output_type": "stream",
     "text": [
      "2\n"
     ]
    }
   ],
   "source": [
    "# ANS 5:\n",
    "def findDistanceValue(arr1, arr2, d):\n",
    "    distance = 0\n",
    "    for num1 in arr1:\n",
    "        is_valid = True\n",
    "        for num2 in arr2:\n",
    "            if abs(num1 - num2) <= d:\n",
    "                is_valid = False\n",
    "                break\n",
    "        if is_valid:\n",
    "            distance += 1\n",
    "    return distance\n",
    "\n",
    "arr1 = [4,5,8]\n",
    "arr2 = [10,9,1,8]\n",
    "d = 2\n",
    "result=findDistanceValue(arr1, arr2, d)\n",
    "print(result)"
   ]
  },
  {
   "cell_type": "code",
   "execution_count": 6,
   "id": "465b2110-16be-46a1-b84c-5444b489bd9a",
   "metadata": {},
   "outputs": [
    {
     "name": "stdout",
     "output_type": "stream",
     "text": [
      "[2, 3]\n"
     ]
    }
   ],
   "source": [
    "# ANS 6:\n",
    "def findDuplicates(nums):\n",
    "    result = []\n",
    "    for num in nums:\n",
    "        num = abs(num)\n",
    "        if nums[num - 1] > 0:\n",
    "            nums[num - 1] *= -1\n",
    "        else:\n",
    "            result.append(num)\n",
    "    return result\n",
    "\n",
    "nums = [4,3,2,7,8,2,3,1]\n",
    "result=findDuplicates(nums)\n",
    "print(result)"
   ]
  },
  {
   "cell_type": "code",
   "execution_count": 7,
   "id": "bb2a7a54-244d-4285-993f-2a229a4059b9",
   "metadata": {},
   "outputs": [
    {
     "name": "stdout",
     "output_type": "stream",
     "text": [
      "1\n"
     ]
    }
   ],
   "source": [
    "# ANS 7:\n",
    "def findMin(nums):\n",
    "    left, right = 0, len(nums) - 1\n",
    "\n",
    "    while nums[left] > nums[right]:\n",
    "        mid = (left + right) // 2\n",
    "\n",
    "        if nums[mid] > nums[right]:\n",
    "            left = mid + 1\n",
    "        else:\n",
    "            right = mid\n",
    "\n",
    "    return nums[left]\n",
    "\n",
    "nums = [3,4,5,1,2]\n",
    "result=findMin(nums)\n",
    "print(result)"
   ]
  },
  {
   "cell_type": "code",
   "execution_count": null,
   "id": "5822a15f-8174-49b3-aed2-460715b27eca",
   "metadata": {},
   "outputs": [],
   "source": [
    "# ANS 8:\n"
   ]
  }
 ],
 "metadata": {
  "kernelspec": {
   "display_name": "Python 3 (ipykernel)",
   "language": "python",
   "name": "python3"
  },
  "language_info": {
   "codemirror_mode": {
    "name": "ipython",
    "version": 3
   },
   "file_extension": ".py",
   "mimetype": "text/x-python",
   "name": "python",
   "nbconvert_exporter": "python",
   "pygments_lexer": "ipython3",
   "version": "3.10.8"
  }
 },
 "nbformat": 4,
 "nbformat_minor": 5
}
