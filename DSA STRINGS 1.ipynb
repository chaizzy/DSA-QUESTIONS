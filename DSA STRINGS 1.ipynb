{
 "cells": [
  {
   "cell_type": "code",
   "execution_count": 1,
   "id": "1b109bd9-cf59-482d-86d3-640ad82bc0ab",
   "metadata": {},
   "outputs": [],
   "source": [
    "# ANS 1:\n",
    "def isIsomorphic(s,t):\n",
    "        if len(set(s))==len(set(t)):\n",
    "            return True\n",
    "        else:\n",
    "            False   "
   ]
  },
  {
   "cell_type": "code",
   "execution_count": 1,
   "id": "de159ed0-c24a-46ed-9127-f3b4a470c56e",
   "metadata": {},
   "outputs": [],
   "source": [
    "# ANS 2:\n",
    "def is_strobogrammatic(num):\n",
    "    strobogrammatic_map = {'0': '0', '1': '1', '6': '9', '8': '8', '9': '6'}\n",
    "    rotated_num = ''\n",
    "\n",
    "    for digit in reversed(num):\n",
    "        if digit not in strobogrammatic_map:\n",
    "            return False\n",
    "        rotated_num += strobogrammatic_map[digit]\n",
    "\n",
    "    return num == rotated_num"
   ]
  },
  {
   "cell_type": "code",
   "execution_count": 2,
   "id": "0aaafcd3-718b-4327-9e19-48c6a23ab8b6",
   "metadata": {},
   "outputs": [],
   "source": [
    "# ANS 3:\n",
    "def addStrings( num1, num2):\n",
    "        sys.set_int_max_str_digits(10000)\n",
    "        r=0\n",
    "        r1=0\n",
    "        for i in range(len(num1)):\n",
    "            r = r * 10 + int(num1[i])\n",
    "        for j in range(len(num2)):\n",
    "            r1 = r1 * 10 + int(num2[j])\n",
    "\n",
    "        a = r + r1\n",
    "        return str(a)  "
   ]
  },
  {
   "cell_type": "code",
   "execution_count": 3,
   "id": "1c3f7bd1-512d-46af-97da-5a904028f092",
   "metadata": {},
   "outputs": [],
   "source": [
    "# ANS 4:\n",
    "def reverseWords( s) :\n",
    "        s1 = s.split()\n",
    "        for i in range(len(s1)):\n",
    "            s1[i] = s1[i][::-1]  \n",
    "        return \" \".join(s1)   "
   ]
  },
  {
   "cell_type": "code",
   "execution_count": 4,
   "id": "bc9ac67e-3310-44d2-93ab-aa3ff1d1997c",
   "metadata": {},
   "outputs": [],
   "source": [
    "# ANS 5:\n",
    "def reverseStr(s,k):\n",
    "        if k > len(s):\n",
    "            return s[::-1]\n",
    "\n",
    "        l = list(s)\n",
    "        for i in range(0,len(s),2*k):\n",
    "            l[i:i+k] = l[i:i+k][::-1] \n",
    "        return \"\".join(l)    "
   ]
  },
  {
   "cell_type": "code",
   "execution_count": 5,
   "id": "c9d0a8c2-b1d4-4b22-9b9e-1668c8cf9031",
   "metadata": {},
   "outputs": [],
   "source": [
    "# ANS 6:\n",
    "def rotateString(s,goal):\n",
    "        if len(s) != len(goal):\n",
    "            return False\n",
    "        result = s + s\n",
    "        if goal in result:\n",
    "            return True\n",
    "        else: \n",
    "            False"
   ]
  },
  {
   "cell_type": "code",
   "execution_count": null,
   "id": "a7dfdbdf-d2b2-4224-9633-55ddde8213a7",
   "metadata": {},
   "outputs": [],
   "source": []
  }
 ],
 "metadata": {
  "kernelspec": {
   "display_name": "Python 3 (ipykernel)",
   "language": "python",
   "name": "python3"
  },
  "language_info": {
   "codemirror_mode": {
    "name": "ipython",
    "version": 3
   },
   "file_extension": ".py",
   "mimetype": "text/x-python",
   "name": "python",
   "nbconvert_exporter": "python",
   "pygments_lexer": "ipython3",
   "version": "3.10.8"
  }
 },
 "nbformat": 4,
 "nbformat_minor": 5
}
