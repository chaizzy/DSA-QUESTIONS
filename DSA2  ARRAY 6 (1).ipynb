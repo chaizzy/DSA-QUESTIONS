{
 "cells": [
  {
   "cell_type": "code",
   "execution_count": 1,
   "id": "db697d32-ea68-4e9e-a3e3-e8884ad4c1cb",
   "metadata": {},
   "outputs": [
    {
     "data": {
      "text/plain": [
       "[0, 4, 1, 3, 2]"
      ]
     },
     "execution_count": 1,
     "metadata": {},
     "output_type": "execute_result"
    }
   ],
   "source": [
    "# ANS 1:\n",
    "s = \"IDID\"\n",
    "def diStringMatch(s: str) -> list[int]:\n",
    "        ans = []\n",
    "        low = 0\n",
    "        high = len(s)\n",
    "        for i in s:\n",
    "            if i==\"I\":\n",
    "                ans.append(low)\n",
    "                low+=1\n",
    "            else:\n",
    "                ans.append(high)\n",
    "                high-=1\n",
    "        ans.append(high)\n",
    "        return ans\n",
    "diStringMatch(s)"
   ]
  },
  {
   "cell_type": "code",
   "execution_count": 2,
   "id": "3d25488c-53d7-434f-b104-863e47e8b23b",
   "metadata": {},
   "outputs": [
    {
     "data": {
      "text/plain": [
       "True"
      ]
     },
     "execution_count": 2,
     "metadata": {},
     "output_type": "execute_result"
    }
   ],
   "source": [
    "# ANS 2:\n",
    "matrix = [[1,3,5,7],[10,11,16,20],[23,30,34,60]]\n",
    "target = 3\n",
    "def searchMatrix(matrix: list[list[int]], target: int) -> bool:\n",
    "    rows = len(matrix)\n",
    "    cols = len(matrix[0])\n",
    "    row = 0\n",
    "    for row in range(rows):\n",
    "        if matrix[row][0] > target:\n",
    "            row = row - 1\n",
    "            break\n",
    "    else:\n",
    "        row = rows - 1\n",
    "    for i in range(cols):\n",
    "        if matrix[row][i] == target:\n",
    "            return(True)\n",
    "            break\n",
    "    return(False)\n",
    "searchMatrix(matrix , target)"
   ]
  },
  {
   "cell_type": "code",
   "execution_count": 4,
   "id": "c5acae93-f481-45f2-845d-b6c3d28f67ca",
   "metadata": {},
   "outputs": [],
   "source": [
    "# ANS 3:\n",
    "def validMountainArray(arr):\n",
    "        if len(arr) < 3:\n",
    "            return False\n",
    "\n",
    "        max_value = max(arr)\n",
    "        mid = arr.index(max_value)\n",
    "\n",
    "        first_part = True\n",
    "        if mid - 0 < 1:\n",
    "            return False\n",
    "        else:    \n",
    "            for i in range(0, mid):\n",
    "                if arr[i] >= arr[i+1]:\n",
    "                    first_part = False\n",
    "                    break\n",
    "\n",
    "        second_part = True\n",
    "        if len(arr) - mid < 2:\n",
    "            return False\n",
    "        else:\n",
    "\n",
    "            for j in range(mid, len(arr)-1):\n",
    "                if arr[j] <= arr[j+1]:\n",
    "                    second_part = False\n",
    "                    break\n",
    "\n",
    "        if first_part and second_part:\n",
    "            return True\n",
    "        else:\n",
    "            return False"
   ]
  },
  {
   "cell_type": "code",
   "execution_count": 9,
   "id": "14ffea97-8a0b-4d4f-95d7-a31fbf0d0b7d",
   "metadata": {},
   "outputs": [
    {
     "data": {
      "text/plain": [
       "2"
      ]
     },
     "execution_count": 9,
     "metadata": {},
     "output_type": "execute_result"
    }
   ],
   "source": [
    "# ANS 4:\n",
    "arr = [0,1,0]\n",
    "def findMaxLength(nums: list[int]) -> int:\n",
    "    max_length =0\n",
    "    hash={}\n",
    "    count=0\n",
    "    for i in range(len(nums)):\n",
    "        current=nums[i]\n",
    "        if current==0:\n",
    "            count-=1 #\n",
    "        else:\n",
    "            \n",
    "            count+=1\n",
    "\n",
    "        if count==0:\n",
    "            \n",
    "            max_length=i+1\n",
    "        if count in hash:\n",
    "            max_length=max(max_length,i-hash[count])\n",
    "        else:\n",
    "            hash[count]=i\n",
    "    return max_length\n",
    "findMaxLength(arr)"
   ]
  },
  {
   "cell_type": "code",
   "execution_count": 8,
   "id": "79f695e9-81b6-4e7b-9f88-ae267742f443",
   "metadata": {},
   "outputs": [
    {
     "data": {
      "text/plain": [
       "40"
      ]
     },
     "execution_count": 8,
     "metadata": {},
     "output_type": "execute_result"
    }
   ],
   "source": [
    "# ANS 5:\n",
    "nums1 = [5,3,4,2]\n",
    "nums2 = [4,2,2,5]\n",
    "def minProductSum(nums1:list[int], nums2:list[int])->int:\n",
    "    \n",
    "    nums1.sort()\n",
    "    nums2.sort()\n",
    "    n = len(nums1)\n",
    "\n",
    "    result = 0\n",
    "    for i in range(n):\n",
    "        result += (nums1[i] * nums2[n-i-1])\n",
    "\n",
    "    return(result)\n",
    "minProductSum(nums1, nums2)"
   ]
  },
  {
   "cell_type": "code",
   "execution_count": 7,
   "id": "b657854a-4856-441c-b6a6-bb2e954f9c5c",
   "metadata": {},
   "outputs": [],
   "source": [
    "# ANS 6:\n",
    "def findOriginalArray(changed):\n",
    "    if len(changed) % 2 != 0:\n",
    "        return []\n",
    "    \n",
    "    originalSet = set(changed)\n",
    "    original = []\n",
    "    changed.sort()\n",
    "\n",
    "    for num in changed:\n",
    "        if num/2 not in originalSet:\n",
    "            return []\n",
    "        originalSet.remove(num/2)\n",
    "        original.append(int(num/2))\n",
    "    \n",
    "    return original"
   ]
  },
  {
   "cell_type": "code",
   "execution_count": null,
   "id": "c085b85b-5c84-480f-971f-36d64d5d25c9",
   "metadata": {},
   "outputs": [],
   "source": []
  }
 ],
 "metadata": {
  "kernelspec": {
   "display_name": "Python 3 (ipykernel)",
   "language": "python",
   "name": "python3"
  },
  "language_info": {
   "codemirror_mode": {
    "name": "ipython",
    "version": 3
   },
   "file_extension": ".py",
   "mimetype": "text/x-python",
   "name": "python",
   "nbconvert_exporter": "python",
   "pygments_lexer": "ipython3",
   "version": "3.10.8"
  }
 },
 "nbformat": 4,
 "nbformat_minor": 5
}
