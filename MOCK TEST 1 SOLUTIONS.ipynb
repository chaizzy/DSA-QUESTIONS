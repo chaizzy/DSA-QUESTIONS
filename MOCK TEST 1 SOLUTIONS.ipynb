{
 "cells": [
  {
   "cell_type": "code",
   "execution_count": 1,
   "id": "024340e3-f0df-4a45-ba18-36b29b435536",
   "metadata": {},
   "outputs": [],
   "source": [
    "# ANS 1:\n",
    "nums = [0,1,0,3,12]\n",
    "def moveZeroes(self, nums,List):\n",
    "        curr = 0\n",
    "        p0 = 0\n",
    "        while curr < len(nums) and p0 < len(nums):\n",
    "            if nums[curr]!=0:\n",
    "                nums[p0],nums[curr]=nums[curr],nums[p0]\n",
    "                curr += 1\n",
    "                p0 += 1\n",
    "            else:\n",
    "                curr += 1\n",
    "nums = [0,1,0,3,12]\n",
    "moveZeroes"
   ]
  },
  {
   "cell_type": "code",
   "execution_count": 4,
   "id": "08f1b733-fbbb-46f8-9e75-a0c78872689e",
   "metadata": {},
   "outputs": [
    {
     "data": {
      "text/plain": [
       "0"
      ]
     },
     "execution_count": 4,
     "metadata": {},
     "output_type": "execute_result"
    }
   ],
   "source": [
    "# ANS 2:\n",
    "s = \"leetcode\"\n",
    "def firstUniqChar(s):\n",
    "    char_count = {}\n",
    "    \n",
    "    for char in s:\n",
    "        char_count[char] = char_count.get(char, 0) + 1\n",
    "    \n",
    "    for i, char in enumerate(s):\n",
    "        if char_count[char] == 1:\n",
    "            return i\n",
    "    \n",
    "    return -1\n",
    "s = \"leetcode\"\n",
    "firstUniqChar(s)"
   ]
  },
  {
   "cell_type": "code",
   "execution_count": null,
   "id": "a884f914-c2e1-4fc0-af59-6dea9c334713",
   "metadata": {},
   "outputs": [],
   "source": []
  }
 ],
 "metadata": {
  "kernelspec": {
   "display_name": "Python 3 (ipykernel)",
   "language": "python",
   "name": "python3"
  },
  "language_info": {
   "codemirror_mode": {
    "name": "ipython",
    "version": 3
   },
   "file_extension": ".py",
   "mimetype": "text/x-python",
   "name": "python",
   "nbconvert_exporter": "python",
   "pygments_lexer": "ipython3",
   "version": "3.10.8"
  }
 },
 "nbformat": 4,
 "nbformat_minor": 5
}
