{
 "cells": [
  {
   "cell_type": "code",
   "execution_count": 4,
   "id": "b4bb6000-64d0-4498-b281-120e538bae8e",
   "metadata": {},
   "outputs": [
    {
     "data": {
      "text/plain": [
       "[2, 4, 6, 8, 10]"
      ]
     },
     "execution_count": 4,
     "metadata": {},
     "output_type": "execute_result"
    }
   ],
   "source": [
    "# ANS 17\n",
    "def com_way(l):\n",
    "    return [i for i in l if i%2==0]\n",
    "l = [1, 2, 3, 4, 5, 6, 7, 8, 9, 10]\n",
    "com_way(l)"
   ]
  },
  {
   "cell_type": "code",
   "execution_count": 9,
   "id": "76b3c583-4934-4d5c-a9ee-dcb371a0faa4",
   "metadata": {},
   "outputs": [],
   "source": [
    "# ANS 18:\n",
    "import time\n",
    "\n",
    "def timer(func):\n",
    "    def wrapper(*args, **kwargs):\n",
    "        start_time = time.time()  \n",
    "        result = func(*args, **kwargs)  \n",
    "        end_time = time.time()  \n",
    "        execution_time = end_time - start_time \n",
    "        print(f\"Execution time: {execution_time} seconds\")\n",
    "\n",
    "        return result\n",
    "\n",
    "    return wrapper"
   ]
  },
  {
   "cell_type": "code",
   "execution_count": 8,
   "id": "53b9bb94-16d3-4214-9f99-252dd09af223",
   "metadata": {},
   "outputs": [
    {
     "name": "stdout",
     "output_type": "stream",
     "text": [
      "Execution time: 2.0020604133605957 seconds\n"
     ]
    }
   ],
   "source": [
    "@timer\n",
    "def my_function():\n",
    "    \n",
    "    time.sleep(2)  \n",
    "\n",
    "my_function()"
   ]
  },
  {
   "cell_type": "code",
   "execution_count": 11,
   "id": "fae1e9b0-5192-4fd9-ba5f-dc35eaa1d15c",
   "metadata": {},
   "outputs": [
    {
     "name": "stdout",
     "output_type": "stream",
     "text": [
      "Mean: 20.0\n"
     ]
    }
   ],
   "source": [
    "# ANS 19:\n",
    "def calculate_mean(list1):\n",
    "    t = sum(list1)\n",
    "    count = len(list1)\n",
    "    mean = t / count\n",
    "    return mean\n",
    "\n",
    "list1 = [1, 15, 21, 25, 38]\n",
    "mean_value = calculate_mean(list1)\n",
    "print(\"Mean:\", mean_value)"
   ]
  },
  {
   "cell_type": "code",
   "execution_count": 12,
   "id": "2a8b0f4e-74bc-4842-a7b3-84d6b59dd080",
   "metadata": {},
   "outputs": [
    {
     "name": "stdout",
     "output_type": "stream",
     "text": [
      "P-value: 0.09434977284243756\n"
     ]
    }
   ],
   "source": [
    "# ANS 20:\n",
    "from scipy import stats\n",
    "\n",
    "def perform_hypothesis_test(sample1, sample2):\n",
    "    t_statistic, p_value = stats.ttest_ind(sample1, sample2)\n",
    "    return p_value\n",
    "\n",
    "sample1 = [5, 10, 15, 20, 25]\n",
    "sample2 = [10, 20, 30, 40, 50]\n",
    "p_value = perform_hypothesis_test(sample1, sample2)\n",
    "print(\"P-value:\", p_value)"
   ]
  },
  {
   "cell_type": "code",
   "execution_count": null,
   "id": "fb620637-7e5a-4f95-989f-b6543610fd42",
   "metadata": {},
   "outputs": [],
   "source": []
  }
 ],
 "metadata": {
  "kernelspec": {
   "display_name": "Python 3 (ipykernel)",
   "language": "python",
   "name": "python3"
  },
  "language_info": {
   "codemirror_mode": {
    "name": "ipython",
    "version": 3
   },
   "file_extension": ".py",
   "mimetype": "text/x-python",
   "name": "python",
   "nbconvert_exporter": "python",
   "pygments_lexer": "ipython3",
   "version": "3.10.8"
  }
 },
 "nbformat": 4,
 "nbformat_minor": 5
}
